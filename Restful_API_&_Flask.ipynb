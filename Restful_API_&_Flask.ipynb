{
  "nbformat": 4,
  "nbformat_minor": 0,
  "metadata": {
    "colab": {
      "provenance": []
    },
    "kernelspec": {
      "name": "python3",
      "display_name": "Python 3"
    },
    "language_info": {
      "name": "python"
    }
  },
  "cells": [
    {
      "cell_type": "markdown",
      "source": [
        "#Restful API & Flask\n",
        "\n",
        "1. What is a RESTful API?\n",
        "\n",
        "  A RESTful API is an architectural style for designing web services that uses standard HTTP methods to perform operations on resources, typically represented in JSON or XML format.\n",
        "\n",
        "2. Explain the concept of API specification\n",
        "\n",
        "  An API specification is a document that outlines how an API works, detailing endpoints, HTTP methods, request/response formats, authentication requirements, and error handling.\n",
        "\n",
        "3. What is Flask, and why is it popular for building APIs?\n",
        "\n",
        "  Flask is a lightweight Python web framework known for its simplicity, flexibility, and large ecosystem of extensions, making it ideal for quickly building APIs and web applications.\n",
        "\n",
        "4. What is routing in Flask?\n",
        "\n",
        "  Routing is the mechanism that maps URL patterns to specific functions within a Flask application.\n",
        "\n",
        "5. How do you create a simple Flask application?\n",
        "\n",
        "  By initializing a Flask instance, defining routes, and running the application on a server.\n",
        "\n",
        "6. What are HTTP methods used in RESTful APIs?\n",
        "\n",
        "  Common methods are GET, POST, PUT, DELETE, and PATCH, each serving a specific purpose in CRUD operations.\n",
        "\n",
        "7. What is the purpose of the @app.route() decorator in Flask?\n",
        "\n",
        "  It associates a URL path with a function, telling Flask which function to execute when that URL is accessed.\n",
        "\n",
        "8. What is the difference between GET and POST HTTP methods?\n",
        "\n",
        "  ET is used to retrieve data and sends parameters in the URL, while POST is used to send data to the server in the request body.\n",
        "\n",
        "9. How do you handle errors in Flask APIs?\n",
        "\n",
        "  By defining custom error handlers and returning appropriate status codes and messages to the client.\n",
        "\n",
        "10. How do you connect Flask to a SQL database?\n",
        "\n",
        "  By configuring a database URI and using an ORM or connector like SQLAlchemy to manage interactions.\n",
        "\n",
        "11. What is the role of Flask-SQLAlchemy?\n",
        "\n",
        "  It acts as an ORM, simplifying database interactions by representing tables as Python classes and handling queries more intuitively.\n",
        "\n",
        "12. What are Flask blueprints, and how are they useful?\n",
        "\n",
        "  Blueprints allow modular structuring of a Flask application by grouping related routes and functionality, making large applications easier to maintain.\n",
        "\n",
        "13. What is the purpose of Flask's request object?\n",
        "\n",
        "  It holds all the data related to an incoming HTTP request, including headers, query parameters, form data, and JSON payloads.\n",
        "\n",
        "14. How do you create a RESTful API endpoint using Flask?\n",
        "\n",
        "  By defining a route and specifying the HTTP methods it should respond to, then returning appropriate data or responses.\n",
        "\n",
        "15. What is the purpose of Flask's jsonify() function?\n",
        "\n",
        "  It converts Python dictionaries or lists into properly formatted JSON responses for API clients.\n",
        "\n",
        "16. Explain Flask’s url_for() function\n",
        "\n",
        "  It dynamically generates URLs for routes based on their function names, avoiding hardcoding of URLs.\n",
        "\n",
        "17. How does Flask handle static files (CSS, JavaScript, etc.)?\n",
        "\n",
        "  It serves files from a predefined “static” directory, making them accessible to web pages.\n",
        "\n",
        "18. What is an API specification, and how does it help in building a Flask API?\n",
        "\n",
        "  It serves as a blueprint for API development, ensuring consistent communication between developers, clients, and systems.\n",
        "\n",
        "19. What are HTTP status codes, and why are they important in a Flask API?\n",
        "\n",
        "  They indicate the outcome of an HTTP request, helping clients understand whether an operation succeeded, failed, or requires action.\n",
        "\n",
        "20. How do you handle POST requests in Flask?\n",
        "\n",
        "  By reading data sent in the request body and processing it according to the application’s requirements.\n",
        "\n",
        "21. How would you secure a Flask API?\n",
        "\n",
        "  By implementing authentication and authorization, using HTTPS, validating inputs, and applying best security practices.\n",
        "\n",
        "22. What is the significance of the Flask-RESTful extension?\n",
        "\n",
        "  It streamlines the process of building REST APIs by providing resource classes, request parsing, and cleaner routing.\n",
        "\n",
        "23. What is the role of Flask’s session object?\n",
        "\n",
        "  It allows storing user-specific data across multiple requests by using signed cookies for secure session management."
      ],
      "metadata": {
        "id": "ZAr_1LpFexAt"
      }
    },
    {
      "cell_type": "code",
      "execution_count": null,
      "metadata": {
        "id": "YAEaWWvTeuNi"
      },
      "outputs": [],
      "source": []
    },
    {
      "cell_type": "code",
      "source": [
        "#Q.  How do you create a basic Flask application\n",
        "\n",
        "from flask import Flask\n",
        "\n",
        "app = Flask(__name__)\n",
        "\n",
        "@app.route('/')\n",
        "def home():\n",
        "    return \"Hello, Flask from a WSGI server!\"\n"
      ],
      "metadata": {
        "id": "w0s5znDIfp4t"
      },
      "execution_count": 3,
      "outputs": []
    },
    {
      "cell_type": "code",
      "source": [
        "#Q.How do you serve static files like images or CSS in Flask\n",
        "\n",
        "from flask import Flask, render_template\n",
        "\n",
        "app = Flask(__name__)  # Flask will automatically serve files from /static\n",
        "\n",
        "@app.route('/')\n",
        "def home():\n",
        "    return render_template('index.html')\n",
        "    # Loads an HTML file that references static files\n",
        "\n"
      ],
      "metadata": {
        "id": "8BHwDBlkgtdU"
      },
      "execution_count": 6,
      "outputs": []
    },
    {
      "cell_type": "code",
      "source": [
        "#Q. How do you define different routes with different HTTP methods in Flask\n",
        "\n",
        "from flask import Flask, request\n",
        "\n",
        "app = Flask(__name__)\n",
        "\n",
        "@app.route('/hello', methods=['GET'])\n",
        "def hello():\n",
        "    return \"Hello! This is a GET request.\"\n",
        "\n",
        "@app.route('/submit', methods=['POST'])\n",
        "def submit():\n",
        "    data = request.form.get('name', 'No name provided')\n",
        "    return f\"Data received via POST: {data}\"\n",
        "\n",
        "@app.route('/login', methods=['GET', 'POST'])\n",
        "def login():\n",
        "    if request.method == 'POST':\n",
        "        username = request.form.get('username', 'Guest')\n",
        "        return f\"Welcome, {username}!\"\n",
        "    return \"Please log in (use POST to submit credentials).\"\n"
      ],
      "metadata": {
        "id": "XSQ5wDbDg-yG"
      },
      "execution_count": 8,
      "outputs": []
    },
    {
      "cell_type": "code",
      "source": [
        "#Q.  How can you generate URLs for routes in Flask using url_for\n",
        "\n",
        "from flask import Flask, url_for, redirect\n",
        "\n",
        "app = Flask(__name__)\n",
        "\n",
        "@app.route('/')\n",
        "def home():\n",
        "    return 'Welcome to the Home Page!'\n",
        "\n",
        "@app.route('/about')\n",
        "def about():\n",
        "    return 'This is the About Page.'\n",
        "\n",
        "@app.route('/go-to-about')\n",
        "def go_to_about():\n",
        "    # Redirect to the \"about\" route dynamically using url_for\n",
        "    return redirect(url_for('about'))\n",
        "\n",
        "if __name__ == '__main__':\n",
        "    app.run(debug=True)\n"
      ],
      "metadata": {
        "id": "SKW4q9I2hxQY"
      },
      "execution_count": null,
      "outputs": []
    },
    {
      "cell_type": "code",
      "source": [
        "#Q. How do you handle forms in Flask\n",
        "\n",
        "from flask import Flask, request, render_template\n",
        "\n",
        "app = Flask(__name__)\n",
        "\n",
        "@app.route('/')\n",
        "def home():\n",
        "    # show the form\n",
        "    return render_template('form.html')\n",
        "\n",
        "@app.route('/submit', methods=['POST'])\n",
        "def submit():\n",
        "    # get data from form fields\n",
        "    username = request.form.get('username')\n",
        "    email = request.form.get('email')\n",
        "    return render_template('success.html', username=username, email=email)\n",
        "\n",
        "if __name__ == '__main__':\n",
        "    app.run(debug=True)\n"
      ],
      "metadata": {
        "id": "ihOQKmCKh7T4"
      },
      "execution_count": null,
      "outputs": []
    },
    {
      "cell_type": "code",
      "source": [
        "#Q. How can you validate form data in Flask\n",
        "\n",
        "from flask import Flask, request, render_template, flash, redirect, url_for\n",
        "\n",
        "app = Flask(__name__)\n",
        "app.secret_key = \"supersecretkey\"   # needed for flash messages\n",
        "\n",
        "@app.route('/')\n",
        "def home():\n",
        "    return render_template('form.html')\n",
        "\n",
        "@app.route('/submit', methods=['POST'])\n",
        "def submit():\n",
        "    username = request.form.get('username', '').strip()\n",
        "    email = request.form.get('email', '').strip()\n",
        "\n",
        "    # ✅ Basic validation\n",
        "    if not username:\n",
        "        flash(\"Username is required!\", \"error\")\n",
        "        return redirect(url_for('home'))\n",
        "\n",
        "    if \"@\" not in email:\n",
        "        flash(\"Please enter a valid email address.\", \"error\")\n",
        "        return redirect(url_for('home'))\n",
        "\n",
        "    return f\"✅ Form submitted! Username: {username}, Email: {email}\"\n",
        "\n",
        "if __name__ == '__main__':\n",
        "    app.run(debug=True)\n"
      ],
      "metadata": {
        "id": "293K14OriArs"
      },
      "execution_count": null,
      "outputs": []
    },
    {
      "cell_type": "code",
      "source": [
        "#Q. How do you manage sessions in Flask\n",
        "\n",
        "from flask import Flask, session, redirect, url_for, request\n",
        "\n",
        "app = Flask(__name__)\n",
        "app.secret_key = \"supersecretkey\"  # required for session signing\n",
        "\n",
        "@app.route('/')\n",
        "def home():\n",
        "    username = session.get('username')\n",
        "    if username:\n",
        "        return f\"✅ Welcome back, {username}!\"\n",
        "    return \"❌ You are not logged in.\"\n",
        "\n",
        "@app.route('/login', methods=['POST'])\n",
        "def login():\n",
        "    session['username'] = request.form['username']  # store username in session\n",
        "    return redirect(url_for('home'))\n",
        "\n",
        "@app.route('/logout')\n",
        "def logout():\n",
        "    session.pop('username', None)  # remove username from session\n",
        "    return redirect(url_for('home'))\n",
        "\n",
        "if __name__ == '__main__':\n",
        "    app.run(debug=True)\n"
      ],
      "metadata": {
        "id": "7fDWYPwmiFoZ"
      },
      "execution_count": null,
      "outputs": []
    },
    {
      "cell_type": "code",
      "source": [
        "#Q. How do you redirect to a different route in Flask\n",
        "\n",
        "from flask import Flask, redirect, url_for\n",
        "\n",
        "app = Flask(__name__)\n",
        "\n",
        "@app.route('/')\n",
        "def home():\n",
        "    return \"🏠 Home Page\"\n",
        "\n",
        "@app.route('/old-page')\n",
        "def old_page():\n",
        "    # redirect to the new page dynamically\n",
        "    return redirect(url_for('new_page'))\n",
        "\n",
        "@app.route('/new-page')\n",
        "def new_page():\n",
        "    return \"✅ This is the NEW page!\"\n",
        "\n",
        "if __name__ == '__main__':\n",
        "    app.run(debug=True)\n"
      ],
      "metadata": {
        "id": "PuVr2rmHiLlc"
      },
      "execution_count": null,
      "outputs": []
    },
    {
      "cell_type": "code",
      "source": [
        "#Q. How do you handle errors in Flask (e.g., 404)\n",
        "\n",
        "from flask import Flask, render_template\n",
        "\n",
        "app = Flask(__name__)\n",
        "\n",
        "@app.route('/')\n",
        "def home():\n",
        "    return \"🏠 Welcome to the Home Page!\"\n",
        "\n",
        "# ✅ Custom handler for 404 (Page Not Found)\n",
        "@app.errorhandler(404)\n",
        "def page_not_found(e):\n",
        "    return render_template('404.html'), 404\n",
        "\n",
        "# ✅ Custom handler for 500 (Internal Server Error)\n",
        "@app.errorhandler(500)\n",
        "def internal_error(e):\n",
        "    return render_template('500.html'), 500\n",
        "\n",
        "if __name__ == '__main__':\n",
        "    app.run(debug=True)\n"
      ],
      "metadata": {
        "id": "OOWQcQFFiRhm"
      },
      "execution_count": null,
      "outputs": []
    },
    {
      "cell_type": "code",
      "source": [
        "#Q.  How do you structure a Flask app using Blueprints\n",
        "\n",
        "from flask import Blueprint, render_template\n",
        "\n",
        "# ✅ Create a Blueprint for auth\n",
        "auth_bp = Blueprint('auth', __name__, url_prefix='/auth')\n",
        "\n",
        "@auth_bp.route('/login')\n",
        "def login():\n",
        "    return render_template('auth/login.html')\n"
      ],
      "metadata": {
        "id": "xxmyfavPihgf"
      },
      "execution_count": null,
      "outputs": []
    },
    {
      "cell_type": "code",
      "source": [
        "#Q. How do you define a custom Jinja filter in Flask\n",
        "\n",
        "from flask import Flask, render_template\n",
        "\n",
        "app = Flask(__name__)\n",
        "\n",
        "# ✅ Define a custom filter function\n",
        "def reverse_string(s):\n",
        "    return s[::-1]\n",
        "\n",
        "# ✅ Register the filter with Jinja\n",
        "app.jinja_env.filters['reverse'] = reverse_string\n",
        "\n",
        "@app.route('/')\n",
        "def home():\n",
        "    return render_template('index.html', name=\"Flask\")\n",
        "\n",
        "if __name__ == '__main__':\n",
        "    app.run(debug=True)\n"
      ],
      "metadata": {
        "id": "oW9ngzARipDy"
      },
      "execution_count": null,
      "outputs": []
    },
    {
      "cell_type": "code",
      "source": [
        "#Q. How can you redirect with query parameters in Flask\n",
        "\n",
        "from flask import Flask, redirect, url_for, request\n",
        "\n",
        "app = Flask(__name__)\n",
        "\n",
        "@app.route('/')\n",
        "def home():\n",
        "    return \"🏠 Home Page\"\n",
        "\n",
        "@app.route('/search')\n",
        "def search():\n",
        "    query = request.args.get('q', '')\n",
        "    return f\"🔍 You searched for: {query}\"\n",
        "\n",
        "@app.route('/go-to-search')\n",
        "def go_to_search():\n",
        "    # ✅ Redirect and include query parameters\n",
        "    return redirect(url_for('search', q='flask tutorial', page=2))\n",
        "\n",
        "if __name__ == '__main__':\n",
        "    app.run(debug=True)\n"
      ],
      "metadata": {
        "id": "TMiTaoZ7iugK"
      },
      "execution_count": null,
      "outputs": []
    },
    {
      "cell_type": "code",
      "source": [
        "#Q.  How do you return JSON responses in Flask\n",
        "\n",
        "from flask import Flask, jsonify\n",
        "\n",
        "app = Flask(__name__)\n",
        "\n",
        "@app.route('/api/user')\n",
        "def get_user():\n",
        "    user = {\"name\": \"Alice\", \"age\": 25, \"city\": \"Paris\"}\n",
        "    return jsonify(user)\n",
        "\n",
        "if __name__ == '__main__':\n",
        "    app.run(debug=True)\n"
      ],
      "metadata": {
        "id": "uU-NuG4bizKs"
      },
      "execution_count": null,
      "outputs": []
    },
    {
      "cell_type": "code",
      "source": [
        "#Q. How do you capture URL parameters in Flask\n",
        "\n",
        "from flask import Flask\n",
        "\n",
        "app = Flask(__name__)\n",
        "\n",
        "@app.route('/user/<username>')\n",
        "def show_user(username):\n",
        "    return f\"👤 Profile page for {username}\"\n",
        "\n",
        "if __name__ == '__main__':\n",
        "    app.run(debug=True)\n"
      ],
      "metadata": {
        "id": "As_XZux7i4Vs"
      },
      "execution_count": null,
      "outputs": []
    }
  ]
}